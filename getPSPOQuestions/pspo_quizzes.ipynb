{
 "cells": [
  {
   "cell_type": "code",
   "execution_count": 3,
   "metadata": {},
   "outputs": [],
   "source": [
    "def gerar_exame(wpProQuiz_question_text, wpProQuiz_questionList):\n",
    "    \n",
    "    pspo_document = '\\\\begin{enumerate}\\n'\n",
    "    perguntas = [(e.text).strip() for e in wpProQuiz_question_text]\n",
    "    alternativas = []\n",
    "    alt = []\n",
    "\n",
    "    for i in range(len(wpProQuiz_questionList)):\n",
    "        pspo_document += \"\\t% question \" + str(i+1) + \"\\n\\t\\\\item \" + str(perguntas[i]) + \"\\n\\t\\\\begin{todolist}\\n\"\n",
    "        alt_raw = wpProQuiz_questionList[i].find_all('label')\n",
    "        for j in range(len(alt_raw)):\n",
    "            a = (alt_raw[j].text).strip()\n",
    "            alt.append(a)\n",
    "            pspo_document += \"\\t\\t\\\\item \" + a + \"\\n\"\n",
    "        alternativas.append(alt)\n",
    "        pspo_document += \"\\t\\\\end{todolist}\\n\\n\"\n",
    "        alt = []\n",
    "        \n",
    "    pspo_document += \"\\\\end{enumerate}\"\n",
    "    return pspo_document\n",
    "\n",
    "import time\n",
    "import requests\n",
    "from bs4 import BeautifulSoup\n",
    "from selenium import webdriver\n",
    "\n",
    "options = webdriver.ChromeOptions()\n",
    "options.add_argument('--ignore-certificate-errors')\n",
    "options.add_argument('--incognito')\n",
    "options.add_argument('--headless')\n",
    "driver = webdriver.Chrome()\n",
    "\n",
    "url = \"https://mlapshin.com/index.php/scrum-quizzes/po-learning-mode\"\n",
    "driver.get(url)\n",
    "page = driver.page_source\n",
    "soup_lxml = BeautifulSoup(page, 'lxml')\n",
    "\n",
    "wpProQuiz_question_text = soup_lxml.find_all(class_='wpProQuiz_question_text')\n",
    "wpProQuiz_questionList = soup_lxml.find_all(class_='wpProQuiz_questionList')\n",
    "\n",
    "driver.quit()"
   ]
  },
  {
   "cell_type": "code",
   "execution_count": 4,
   "metadata": {},
   "outputs": [],
   "source": [
    "tex_file = gerar_exame(wpProQuiz_question_text, wpProQuiz_questionList)\n",
    "\n",
    "with open('exame_v0.tex', 'w') as file:  # Use file to refer to the file object\n",
    "    file.write(tex_file)"
   ]
  }
 ],
 "metadata": {
  "kernelspec": {
   "display_name": "Python 3",
   "language": "python",
   "name": "python3"
  },
  "language_info": {
   "codemirror_mode": {
    "name": "ipython",
    "version": 3
   },
   "file_extension": ".py",
   "mimetype": "text/x-python",
   "name": "python",
   "nbconvert_exporter": "python",
   "pygments_lexer": "ipython3",
   "version": "3.8.5"
  }
 },
 "nbformat": 4,
 "nbformat_minor": 4
}
